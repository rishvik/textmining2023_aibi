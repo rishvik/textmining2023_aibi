{
 "cells": [
  {
   "cell_type": "code",
   "execution_count": 73,
   "id": "6c4db7cb",
   "metadata": {},
   "outputs": [],
   "source": [
    "class LexiconClassifier():\n",
    "    def __init__(self):\n",
    "        self.negative_words = set()\n",
    "        with open(r\"C:\\Users\\apost\\Desktop\\Negation Lexicon.txt\", encoding = 'utf-8') as iFile:\n",
    "            for row in iFile:\n",
    "                self.negative_words.add(row.strip())\n",
    "    def count_neg_words(self, sentence):\n",
    "        num_neg_words = 0\n",
    "        for word in sentence.lower().split():\n",
    "            if word in self.negative_words:\n",
    "                num_neg_words += 1\n",
    "        return num_neg_words\n",
    "df = pd.read_csv(\"C:/Users/apost/Desktop/poutsa/SEM-2012-SharedTask-CD-SCO-training-simple.v2-Processed.txt\", sep=\"\\t\",header=0)"
   ]
  },
  {
   "cell_type": "code",
   "execution_count": 74,
   "id": "761a1712",
   "metadata": {},
   "outputs": [],
   "source": [
    "myLC = LexiconClassifier()\n",
    "\n",
    "X_train_lexicon_features = []\n",
    "\n",
    "for i in df:\n",
    "     X_train_lexicon_features.append(myLC.count_neg_words(i))"
   ]
  },
  {
   "cell_type": "code",
   "execution_count": 78,
   "id": "572a4196",
   "metadata": {
    "scrolled": true
   },
   "outputs": [
    {
     "name": "stdout",
     "output_type": "stream",
     "text": [
      "[251, 379, 1, 13, 2, 1, 17, 1, 1]\n"
     ]
    },
    {
     "data": {
      "text/plain": [
       "666"
      ]
     },
     "execution_count": 78,
     "metadata": {},
     "output_type": "execute_result"
    }
   ],
   "source": [
    "print(X_train_lexicon_features)\n",
    "sum(X_train_lexicon_features)"
   ]
  },
  {
   "cell_type": "code",
   "execution_count": null,
   "id": "44dfa18f",
   "metadata": {},
   "outputs": [],
   "source": []
  }
 ],
 "metadata": {
  "kernelspec": {
   "display_name": "Python 3 (ipykernel)",
   "language": "python",
   "name": "python3"
  },
  "language_info": {
   "codemirror_mode": {
    "name": "ipython",
    "version": 3
   },
   "file_extension": ".py",
   "mimetype": "text/x-python",
   "name": "python",
   "nbconvert_exporter": "python",
   "pygments_lexer": "ipython3",
   "version": "3.9.13"
  }
 },
 "nbformat": 4,
 "nbformat_minor": 5
}
