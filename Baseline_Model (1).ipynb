{
 "cells": [
  {
   "cell_type": "code",
   "execution_count": 2,
   "id": "055d0800",
   "metadata": {},
   "outputs": [],
   "source": [
    "from sklearn import metrics\n",
    "def performance(list_true,list_pred):\n",
    "    print(metrics.confusion_matrix(list_true, list_pred))\n",
    "    print(metrics.classification_report(list_true, list_pred, digits=3))"
   ]
  },
  {
   "cell_type": "code",
   "execution_count": 4,
   "id": "16f3cb4c",
   "metadata": {},
   "outputs": [],
   "source": [
    "def baseline_model(df):\n",
    "    df[\"baseline\"] = \"O\"\n",
    "    df.loc[(df['Pre-fix'] == 1) | (df['Af-fix'] == 1) | (df['Negation'] == 1), 'baseline'] = \"B-NEG\"\n",
    "    return list(df[\"baseline\"])"
   ]
  },
  {
   "cell_type": "code",
   "execution_count": 5,
   "id": "1730e550",
   "metadata": {},
   "outputs": [],
   "source": [
    "base_train = baseline_model(df_train)\n",
    "base_dev = baseline_model(df_dev)\n",
    "base_test = baseline_model(df_test)"
   ]
  },
  {
   "cell_type": "code",
   "execution_count": 6,
   "id": "a8159556",
   "metadata": {},
   "outputs": [
    {
     "name": "stdout",
     "output_type": "stream",
     "text": [
      "[[    0     0   987]\n",
      " [    0     0    16]\n",
      " [    0     0 64447]]\n"
     ]
    },
    {
     "name": "stderr",
     "output_type": "stream",
     "text": [
      "C:\\Users\\apost\\anaconda3\\lib\\site-packages\\sklearn\\metrics\\_classification.py:1318: UndefinedMetricWarning: Precision and F-score are ill-defined and being set to 0.0 in labels with no predicted samples. Use `zero_division` parameter to control this behavior.\n",
      "  _warn_prf(average, modifier, msg_start, len(result))\n"
     ]
    },
    {
     "name": "stdout",
     "output_type": "stream",
     "text": [
      "              precision    recall  f1-score   support\n",
      "\n",
      "       B-NEG      0.000     0.000     0.000       987\n",
      "       I-NEG      0.000     0.000     0.000        16\n",
      "           O      0.985     1.000     0.992     64447\n",
      "\n",
      "    accuracy                          0.985     65450\n",
      "   macro avg      0.328     0.333     0.331     65450\n",
      "weighted avg      0.970     0.985     0.977     65450\n",
      "\n"
     ]
    },
    {
     "name": "stderr",
     "output_type": "stream",
     "text": [
      "C:\\Users\\apost\\anaconda3\\lib\\site-packages\\sklearn\\metrics\\_classification.py:1318: UndefinedMetricWarning: Precision and F-score are ill-defined and being set to 0.0 in labels with no predicted samples. Use `zero_division` parameter to control this behavior.\n",
      "  _warn_prf(average, modifier, msg_start, len(result))\n",
      "C:\\Users\\apost\\anaconda3\\lib\\site-packages\\sklearn\\metrics\\_classification.py:1318: UndefinedMetricWarning: Precision and F-score are ill-defined and being set to 0.0 in labels with no predicted samples. Use `zero_division` parameter to control this behavior.\n",
      "  _warn_prf(average, modifier, msg_start, len(result))\n"
     ]
    }
   ],
   "source": [
    "performance(y_train, base_train)"
   ]
  },
  {
   "cell_type": "code",
   "execution_count": null,
   "id": "cc72ef8e",
   "metadata": {},
   "outputs": [],
   "source": []
  }
 ],
 "metadata": {
  "kernelspec": {
   "display_name": "Python 3 (ipykernel)",
   "language": "python",
   "name": "python3"
  },
  "language_info": {
   "codemirror_mode": {
    "name": "ipython",
    "version": 3
   },
   "file_extension": ".py",
   "mimetype": "text/x-python",
   "name": "python",
   "nbconvert_exporter": "python",
   "pygments_lexer": "ipython3",
   "version": "3.9.13"
  }
 },
 "nbformat": 4,
 "nbformat_minor": 5
}
